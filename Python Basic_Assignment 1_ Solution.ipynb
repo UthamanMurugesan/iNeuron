{
 "cells": [
  {
   "cell_type": "code",
   "execution_count": null,
   "id": "ea894c2f",
   "metadata": {},
   "outputs": [],
   "source": [
    "Q. 1. In the below elements which of them are values or an expression? \n",
    "       eg:- values can be integer or string and expressions will be mathematical operators.\n",
    "    \n",
    "    * \n",
    "    'hello'\n",
    "    -87.8\n",
    "    - \n",
    "    / \n",
    "    +\t\n",
    "    6 \n"
   ]
  },
  {
   "cell_type": "markdown",
   "id": "4c04b4de",
   "metadata": {},
   "source": [
    "Values are \"hello\", -87.8, 6\n",
    "\n",
    "Expressions are *, -, / , +"
   ]
  },
  {
   "cell_type": "code",
   "execution_count": null,
   "id": "4fcfd0dd",
   "metadata": {},
   "outputs": [],
   "source": [
    "Q. 2. What is the difference between string and variable?"
   ]
  },
  {
   "cell_type": "markdown",
   "id": "fcbb632e",
   "metadata": {},
   "source": [
    "String : It is a text data which is enclosed with single quotes or double quotes\n",
    "\n",
    "Variable : It is identifier which is used to hold the value"
   ]
  },
  {
   "cell_type": "code",
   "execution_count": null,
   "id": "446b31ed",
   "metadata": {},
   "outputs": [],
   "source": [
    "Q. 3. Describe three different data types."
   ]
  },
  {
   "cell_type": "markdown",
   "id": "e939ba0f",
   "metadata": {},
   "source": [
    "Data Types in Python are as follows:\n",
    "    1. int\n",
    "    2. float\n",
    "    3. bool\n",
    "    4. complex\n",
    "    5. str\n",
    "    6. list\n",
    "    7. tuple\n",
    "    8. set\n",
    "    9. dict"
   ]
  },
  {
   "cell_type": "code",
   "execution_count": null,
   "id": "40867ba6",
   "metadata": {},
   "outputs": [],
   "source": [
    "Q. 4. What is an expression made up of? What do all expressions do?"
   ]
  },
  {
   "cell_type": "markdown",
   "id": "eff3b0e2",
   "metadata": {},
   "source": [
    "Expression is a made up of a combination of operators and operands to produce a result"
   ]
  },
  {
   "cell_type": "code",
   "execution_count": null,
   "id": "3a5c9899",
   "metadata": {},
   "outputs": [],
   "source": [
    "Q. 5. This assignment statements, like spam = 10. What is the difference between an expression and a statement?"
   ]
  },
  {
   "cell_type": "code",
   "execution_count": null,
   "id": "639c2cbc",
   "metadata": {},
   "outputs": [],
   "source": [
    "Expression : - It evaluates to a value\n",
    "             - Evaluation of expression always returns a result value\n",
    "             - Every expression can't be a statement\n",
    "\n",
    "Statement : - It excutes something\n",
    "            - Execution of statement may or may not return a result\n",
    "            - Every statement can be an expression"
   ]
  },
  {
   "cell_type": "code",
   "execution_count": null,
   "id": "d0d88921",
   "metadata": {},
   "outputs": [],
   "source": [
    "Q. 6. After running the following code, what does the variable bacon contain?\n",
    "\n",
    "    bacon = 22\n",
    "    bacon + 1\n"
   ]
  },
  {
   "cell_type": "code",
   "execution_count": 2,
   "id": "65cbd452",
   "metadata": {},
   "outputs": [
    {
     "data": {
      "text/plain": [
       "23"
      ]
     },
     "execution_count": 2,
     "metadata": {},
     "output_type": "execute_result"
    }
   ],
   "source": [
    "bacon = 22\n",
    "\n",
    "bacon + 1"
   ]
  },
  {
   "cell_type": "code",
   "execution_count": null,
   "id": "154cd5fc",
   "metadata": {},
   "outputs": [],
   "source": [
    "Q. 7. What should the values of the following two terms be?\n",
    "\n",
    "    'spam' + 'spamspam'\n",
    "    \n",
    "    'spam' * 3\n"
   ]
  },
  {
   "cell_type": "code",
   "execution_count": 4,
   "id": "aaff1c2a",
   "metadata": {},
   "outputs": [
    {
     "name": "stdout",
     "output_type": "stream",
     "text": [
      "spamspamspam\n",
      "spamspamspam\n"
     ]
    }
   ],
   "source": [
    "print('spam' + 'spamspam')\n",
    "\n",
    "print('spam' * 3)"
   ]
  },
  {
   "cell_type": "code",
   "execution_count": null,
   "id": "dd0f8b96",
   "metadata": {},
   "outputs": [],
   "source": [
    "Q. 8. Why is eggs a valid variable name while 100 is invalid?"
   ]
  },
  {
   "cell_type": "code",
   "execution_count": null,
   "id": "0c294982",
   "metadata": {},
   "outputs": [],
   "source": [
    "There are some rules to be followed while naming the variable\n",
    "\n",
    "Rule 1: You should start variable name with an alphabet or underscore(_) character.\n",
    "Rule 2: A variable name can only contain A-Z,a-z,0-9 and underscore(_).\n",
    "Rule 3: You cannot start the variable name with a number.\n",
    "Rule 4: You cannot use special characters with the variable name such as such as $,%,#,&,@.-,^ etc.\n",
    "Rule 5: Variable names are case sensitive. For example str and Str are two different variables.\n",
    "Rule 6: Do not use reserve keyword as a variable name for example keywords like class, for, def, del, is, else, try, from, etc."
   ]
  },
  {
   "cell_type": "code",
   "execution_count": null,
   "id": "d816c3c2",
   "metadata": {},
   "outputs": [],
   "source": [
    "Q. 9. What three functions can be used to get the integer, floating-point number, or string version of a value?"
   ]
  },
  {
   "cell_type": "markdown",
   "id": "4c87f93b",
   "metadata": {},
   "source": [
    "- To get integer value, use int() function\n",
    "- To get floating-point number, use float() function\n",
    "- To get string value, use str() function"
   ]
  },
  {
   "cell_type": "code",
   "execution_count": null,
   "id": "0ee6575a",
   "metadata": {},
   "outputs": [],
   "source": [
    "Q. 10. Why does this expression cause an error? How can you fix it?\n",
    "\n",
    "    'I have eaten ' + 99 + ' burritos.'\n"
   ]
  },
  {
   "cell_type": "code",
   "execution_count": 6,
   "id": "96aa2e93",
   "metadata": {},
   "outputs": [
    {
     "ename": "TypeError",
     "evalue": "can only concatenate str (not \"int\") to str",
     "output_type": "error",
     "traceback": [
      "\u001b[1;31m---------------------------------------------------------------------------\u001b[0m",
      "\u001b[1;31mTypeError\u001b[0m                                 Traceback (most recent call last)",
      "\u001b[1;32mC:\\Users\\UTHAMA~1\\AppData\\Local\\Temp/ipykernel_20136/1774935878.py\u001b[0m in \u001b[0;36m<module>\u001b[1;34m\u001b[0m\n\u001b[1;32m----> 1\u001b[1;33m \u001b[1;34m'I have eaten '\u001b[0m \u001b[1;33m+\u001b[0m \u001b[1;36m99\u001b[0m \u001b[1;33m+\u001b[0m \u001b[1;34m' burritos.'\u001b[0m\u001b[1;33m\u001b[0m\u001b[1;33m\u001b[0m\u001b[0m\n\u001b[0m",
      "\u001b[1;31mTypeError\u001b[0m: can only concatenate str (not \"int\") to str"
     ]
    }
   ],
   "source": [
    "'I have eaten ' + 99 + ' burritos.'"
   ]
  },
  {
   "cell_type": "markdown",
   "id": "6fc4ab39",
   "metadata": {},
   "source": [
    "This expression results in error due to TypeError, which is the int datatype cannot concatenated with string datatype.\n",
    "\n",
    "To fix this, we can use str() function to convert int datatype to string."
   ]
  },
  {
   "cell_type": "code",
   "execution_count": 8,
   "id": "405b1361",
   "metadata": {},
   "outputs": [
    {
     "data": {
      "text/plain": [
       "'I have eaten 99 burritos.'"
      ]
     },
     "execution_count": 8,
     "metadata": {},
     "output_type": "execute_result"
    }
   ],
   "source": [
    "'I have eaten ' + str(99) + ' burritos.'"
   ]
  },
  {
   "cell_type": "code",
   "execution_count": null,
   "id": "7a6dc4c4",
   "metadata": {},
   "outputs": [],
   "source": []
  }
 ],
 "metadata": {
  "kernelspec": {
   "display_name": "Python 3 (ipykernel)",
   "language": "python",
   "name": "python3"
  },
  "language_info": {
   "codemirror_mode": {
    "name": "ipython",
    "version": 3
   },
   "file_extension": ".py",
   "mimetype": "text/x-python",
   "name": "python",
   "nbconvert_exporter": "python",
   "pygments_lexer": "ipython3",
   "version": "3.9.7"
  }
 },
 "nbformat": 4,
 "nbformat_minor": 5
}
